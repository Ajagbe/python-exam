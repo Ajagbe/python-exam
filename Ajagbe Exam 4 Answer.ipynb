{
 "cells": [
  {
   "cell_type": "code",
   "execution_count": 2,
   "id": "de0fd043",
   "metadata": {},
   "outputs": [
    {
     "ename": "NameError",
     "evalue": "name 'enterProduct' is not defined",
     "output_type": "error",
     "traceback": [
      "\u001b[1;31m---------------------------------------------------------------------------\u001b[0m",
      "\u001b[1;31mNameError\u001b[0m                                 Traceback (most recent call last)",
      "Cell \u001b[1;32mIn[2], line 39\u001b[0m\n\u001b[0;32m     35\u001b[0m     \u001b[38;5;28;01melif\u001b[39;00m x\u001b[38;5;241m==\u001b[39m\u001b[38;5;124m'\u001b[39m\u001b[38;5;124mE\u001b[39m\u001b[38;5;124m'\u001b[39m:\n\u001b[0;32m     36\u001b[0m         \u001b[38;5;28mprint\u001b[39m(\u001b[38;5;124m'\u001b[39m\u001b[38;5;124myour Fashion list is being exited\u001b[39m\u001b[38;5;124m'\u001b[39m)\n\u001b[1;32m---> 39\u001b[0m i\u001b[38;5;241m=\u001b[39m\u001b[43menterProduct\u001b[49m()\n\u001b[0;32m     40\u001b[0m r\u001b[38;5;241m=\u001b[39maddFashion(i, fashionItems)\n\u001b[0;32m     41\u001b[0m showCart(r)\n",
      "\u001b[1;31mNameError\u001b[0m: name 'enterProduct' is not defined"
     ]
    }
   ],
   "source": [
    "fashionWears=[]\n",
    "def Startcart():\n",
    "    x=input('Enter fashion Wear')\n",
    "    return x\n",
    "\n",
    "def addFashion(val,pst):\n",
    "    pst.append(val)\n",
    "    return pst\n",
    "\n",
    "def showCart(pst):\n",
    "    print('Showing Fashion list', pst)\n",
    "    addAnotherFashion()\n",
    "    \n",
    "def searchCart():\n",
    "    search_cart=input('Enter fashion wear')\n",
    "    chk=fashionWears.count(search_fashion)\n",
    "    if search_fashion in fashionWears:\n",
    "        \n",
    "        print('Your Fashion Wear', search_fashion, 'is found', chk, 'time(s)')\n",
    "    else:\n",
    "        print('your Fashion Wear', search_fashion, 'was not found')\n",
    "    showCart(r)\n",
    "    \n",
    "def addAnotherFashion():\n",
    "    a=input('Enter A to add | D to show fashion list | s to Search Fashionlist | E to Exit' )\n",
    "    if a=='A':\n",
    "        print('Adding fashion...')\n",
    "        a=enterProduct()\n",
    "        d=addFashion(a, fashionWears)\n",
    "        showCart(d)\n",
    "    if a=='D':\n",
    "        showCart(fashionWears)\n",
    "    elif a=='S':\n",
    "        searchCart()\n",
    "    elif x=='E':\n",
    "        print('your Fashion list is being exited')\n",
    "        j\n",
    "        \n",
    "i=enterProduct()\n",
    "r=addFashion(i, fashionItems)\n",
    "showCart(r)"
   ]
  },
  {
   "cell_type": "code",
   "execution_count": 4,
   "id": "be76eb3e",
   "metadata": {},
   "outputs": [
    {
     "ename": "NameError",
     "evalue": "name 'c' is not defined",
     "output_type": "error",
     "traceback": [
      "\u001b[1;31m---------------------------------------------------------------------------\u001b[0m",
      "\u001b[1;31mNameError\u001b[0m                                 Traceback (most recent call last)",
      "Cell \u001b[1;32mIn[4], line 1\u001b[0m\n\u001b[1;32m----> 1\u001b[0m x\u001b[38;5;241m=\u001b[39m\u001b[43mc\u001b[49m\u001b[38;5;241m.\u001b[39mcopy()\n\u001b[0;32m      2\u001b[0m \u001b[38;5;28mprint\u001b[39m(x)\n",
      "\u001b[1;31mNameError\u001b[0m: name 'c' is not defined"
     ]
    }
   ],
   "source": [
    "x=c.copy()\n",
    "print(x)"
   ]
  },
  {
   "cell_type": "code",
   "execution_count": null,
   "id": "dccf1720",
   "metadata": {},
   "outputs": [],
   "source": []
  }
 ],
 "metadata": {
  "kernelspec": {
   "display_name": "Python 3 (ipykernel)",
   "language": "python",
   "name": "python3"
  },
  "language_info": {
   "codemirror_mode": {
    "name": "ipython",
    "version": 3
   },
   "file_extension": ".py",
   "mimetype": "text/x-python",
   "name": "python",
   "nbconvert_exporter": "python",
   "pygments_lexer": "ipython3",
   "version": "3.11.1"
  }
 },
 "nbformat": 4,
 "nbformat_minor": 5
}
