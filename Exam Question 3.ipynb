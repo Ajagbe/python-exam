{
 "cells": [
  {
   "cell_type": "code",
   "execution_count": 3,
   "id": "d17e1dd2",
   "metadata": {},
   "outputs": [
    {
     "name": "stdout",
     "output_type": "stream",
     "text": [
      "(['Old boy', 'Simple', 'Attenuate', 'Shy Ones', 'Toxic things', 'Silent words', 'Big Daddy', 'Juvenile', 'Mothers love', 'The foxes', 'IT today'], ['The living light', 'Nigeria Election'], ['Happy', 'Brave'])\n"
     ]
    }
   ],
   "source": [
    "data=[\"The living light\",\"Happy\",\"Brave\",\"Old boy\",\"Simple\",\"Attenuate\",\"Shy Ones\",\"Toxic things\",\"Silent words\",\"Big Daddy\",\"Juvenile\",\"Mothers love\",\"The foxes\",\"Nigeria Election\",\"IT today\"]\n",
    "\n",
    "def main(data):\n",
    "    greater5less15=[]\n",
    "    greater15=[]\n",
    "    notwell=[]\n",
    "    \n",
    "    for string in data:\n",
    "        y=len(string)>5\n",
    "        z=len(string)<15\n",
    "        s=len(string)>15\n",
    "        if y and z:\n",
    "            greater5less15.append(string)\n",
    "        elif s:\n",
    "            greater15.append(string)\n",
    "        else:\n",
    "            notwell.append(string)\n",
    "    return greater5less15, greater15, notwell\n",
    "x=main(data)\n",
    "print(x)"
   ]
  },
  {
   "cell_type": "code",
   "execution_count": null,
   "id": "30a0445c",
   "metadata": {},
   "outputs": [],
   "source": []
  },
  {
   "cell_type": "code",
   "execution_count": null,
   "id": "398a728a",
   "metadata": {},
   "outputs": [],
   "source": []
  },
  {
   "cell_type": "code",
   "execution_count": null,
   "id": "4cd59e0d",
   "metadata": {},
   "outputs": [],
   "source": []
  },
  {
   "cell_type": "code",
   "execution_count": null,
   "id": "04035265",
   "metadata": {},
   "outputs": [],
   "source": []
  }
 ],
 "metadata": {
  "kernelspec": {
   "display_name": "Python 3 (ipykernel)",
   "language": "python",
   "name": "python3"
  },
  "language_info": {
   "codemirror_mode": {
    "name": "ipython",
    "version": 3
   },
   "file_extension": ".py",
   "mimetype": "text/x-python",
   "name": "python",
   "nbconvert_exporter": "python",
   "pygments_lexer": "ipython3",
   "version": "3.11.1"
  }
 },
 "nbformat": 4,
 "nbformat_minor": 5
}
